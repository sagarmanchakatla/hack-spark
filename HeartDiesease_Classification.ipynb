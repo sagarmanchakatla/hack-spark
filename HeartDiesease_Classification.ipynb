{
 "cells": [
  {
   "cell_type": "code",
   "execution_count": 1,
   "id": "70319f2f-3131-43d7-8fb2-8c2f8de313d5",
   "metadata": {},
   "outputs": [],
   "source": [
    "import matplotlib.pyplot as plt\n",
    "import numpy as np\n",
    "from scipy import optimize\n",
    "import pandas as pd"
   ]
  },
  {
   "cell_type": "code",
   "execution_count": 2,
   "id": "e6bf245d-9ccc-403e-8d36-13e84e340bb3",
   "metadata": {},
   "outputs": [],
   "source": [
    "df = pd.read_csv('framingham.csv')\n",
    "df.dropna(inplace=True)\n",
    "df.to_csv('framingham.csv', index=False)\n",
    "data = np.genfromtxt('framingham.csv', delimiter=',', skip_header=1)"
   ]
  },
  {
   "cell_type": "code",
   "execution_count": 3,
   "id": "fe08827e-8cd2-4f87-871f-4a4784d49533",
   "metadata": {},
   "outputs": [],
   "source": [
    "df.shape\n",
    "X, y = data[:, 0:15], data[:, 15]"
   ]
  },
  {
   "cell_type": "code",
   "execution_count": 4,
   "id": "ed134e7d-35a7-4681-9703-4fdfdbc255ef",
   "metadata": {},
   "outputs": [],
   "source": [
    "def plotData(X,y):\n",
    "    pos = y == 1\n",
    "    neg = y == 0\n",
    "\n",
    "# Plot Examples\n",
    "    plt.plot(X[pos, 0], X[pos, 1], 'k*', lw=2, ms=10)\n",
    "    plt.plot(X[neg, 0], X[neg, 1], 'ko', mfc='y', ms=8, mec='k', mew=1)"
   ]
  },
  {
   "cell_type": "code",
   "execution_count": 5,
   "id": "497559b5-4ce8-45d7-8e5c-5c02225dd3b9",
   "metadata": {},
   "outputs": [],
   "source": [
    "def sigmoid(z):\n",
    "    # convert input to a numpy array\n",
    "    z = np.array(z)\n",
    "    g = np.zeros(z.shape)\n",
    "    den=1+(np.exp(-z))\n",
    "    g=1/den\n",
    "    return g"
   ]
  },
  {
   "cell_type": "code",
   "execution_count": 6,
   "id": "d59ad5ad-f981-4646-bb66-9ed6cd0dcda9",
   "metadata": {},
   "outputs": [],
   "source": [
    "# Setup the data matrix appropriately, and add ones for the intercept term\n",
    "m, n = X.shape\n",
    "\n",
    "# Add intercept term to X\n",
    "X = np.concatenate([np.ones((m, 1)), X], axis=1)\n",
    "theta=np.zeros(n+1)"
   ]
  },
  {
   "cell_type": "code",
   "execution_count": 7,
   "id": "aa7bbe25-1a9e-423e-9f1b-2357b835f990",
   "metadata": {},
   "outputs": [],
   "source": [
    "def costFunction(theta, X, y,lambda_):\n",
    "    m = y.size  # number of training examples\n",
    "    J = 0\n",
    "    grad = np.zeros(theta.shape)\n",
    "    loss=-y*np.log(sigmoid(np.dot(X,theta)))-(1-y)*np.log(1-sigmoid(np.dot(X,theta)))+(lambda_ / 2 ) * np.dot(theta[0:].T, theta[0:])\n",
    "    J=(np.sum(loss))/m\n",
    "    predict=sigmoid(np.dot(X,theta))\n",
    "    error=predict-y\n",
    "    grad = (1 / m) * np.dot(X.T, error)+(lambda_/m)*theta[0:]\n",
    "    return J,grad"
   ]
  },
  {
   "cell_type": "code",
   "execution_count": 8,
   "id": "377a9834-e28a-41ad-9afb-20095204b59e",
   "metadata": {},
   "outputs": [
    {
     "name": "stdout",
     "output_type": "stream",
     "text": [
      "0.6931471805599452\n"
     ]
    }
   ],
   "source": [
    "lambda_=0.0001\n",
    "cost,grad = costFunction(theta, X, y,lambda_)\n",
    "print(cost)"
   ]
  },
  {
   "cell_type": "code",
   "execution_count": 9,
   "id": "3f45d4c9-2609-4b52-b171-8ac9f57f244f",
   "metadata": {},
   "outputs": [
    {
     "name": "stdout",
     "output_type": "stream",
     "text": [
      "Cost at theta found by optimize.minimize: 0.380\n",
      "theta:\n",
      "\t[-8.242, 0.549, 0.064]\n"
     ]
    },
    {
     "name": "stderr",
     "output_type": "stream",
     "text": [
      "C:\\Users\\Tanma\\AppData\\Local\\Temp\\ipykernel_6404\\2844222258.py:2: OptimizeWarning: Unknown solver options: maxiter\n",
      "  res = optimize.minimize(costFunction,\n"
     ]
    }
   ],
   "source": [
    "options= {'maxiter': 400}\n",
    "res = optimize.minimize(costFunction,\n",
    "                        theta,\n",
    "                        (X, y,lambda_),\n",
    "                        jac=True,\n",
    "                        method='TNC',\n",
    "                        options=options)\n",
    "cost = res.fun\n",
    "\n",
    "# the optimized theta is in the x property\n",
    "theta = res.x\n",
    "\n",
    "# Print theta to screen\n",
    "print('Cost at theta found by optimize.minimize: {:.3f}'.format(cost))\n",
    "print('theta:')\n",
    "print('\\t[{:.3f}, {:.3f}, {:.3f}]'.format(*theta))"
   ]
  },
  {
   "cell_type": "code",
   "execution_count": 10,
   "id": "8163a7d9-6c51-4137-80a5-5376deaa2146",
   "metadata": {},
   "outputs": [],
   "source": [
    "def predict(theta,X):\n",
    "    m = X.shape[0] \n",
    "    p = np.zeros(m)\n",
    "    probabilities = sigmoid(np.dot(X, theta))\n",
    "\n",
    "    # Set the predictions based on the threshold of 0.5\n",
    "    p[probabilities > 0.5] = 1\n",
    "\n",
    "    return p\n",
    "    "
   ]
  },
  {
   "cell_type": "code",
   "execution_count": 11,
   "id": "1eed542e-7f1e-4112-87e6-c7851a7528e1",
   "metadata": {},
   "outputs": [
    {
     "name": "stdout",
     "output_type": "stream",
     "text": [
      "we predict a ten year coronary heart disease probability of 0.480\n",
      "Train Accuracy: 85.59 %\n"
     ]
    }
   ],
   "source": [
    "prob = sigmoid(np.dot([1,1, 42, 3, 0, 5, 1, 0, 1, 0, 100, 120, 80, 50, 75, 400], theta))\n",
    "print('we predict a ten year coronary heart disease probability of {:.3f}'.format(prob))\n",
    "\n",
    "# Compute accuracy on our training set\n",
    "p = predict(theta, X)\n",
    "print('Train Accuracy: {:.2f} %'.format(np.mean(p == y) * 100))"
   ]
  },
  {
   "cell_type": "code",
   "execution_count": 12,
   "id": "85e56ecf-47cf-42f5-bdcf-7f27b57e2745",
   "metadata": {},
   "outputs": [
    {
     "data": {
      "text/plain": [
       "['logistic_regression_model.pkl']"
      ]
     },
     "execution_count": 12,
     "metadata": {},
     "output_type": "execute_result"
    }
   ],
   "source": [
    "import joblib\n",
    "\n",
    "# After training your model\n",
    "# Save the model to a pickle file\n",
    "joblib.dump(res, 'logistic_regression_model.pkl')"
   ]
  },
  {
   "cell_type": "code",
   "execution_count": null,
   "id": "398961f1-edf7-424b-a729-32fbb2b6df7e",
   "metadata": {},
   "outputs": [],
   "source": []
  }
 ],
 "metadata": {
  "kernelspec": {
   "display_name": "Python 3 (ipykernel)",
   "language": "python",
   "name": "python3"
  },
  "language_info": {
   "codemirror_mode": {
    "name": "ipython",
    "version": 3
   },
   "file_extension": ".py",
   "mimetype": "text/x-python",
   "name": "python",
   "nbconvert_exporter": "python",
   "pygments_lexer": "ipython3",
   "version": "3.10.11"
  }
 },
 "nbformat": 4,
 "nbformat_minor": 5
}
